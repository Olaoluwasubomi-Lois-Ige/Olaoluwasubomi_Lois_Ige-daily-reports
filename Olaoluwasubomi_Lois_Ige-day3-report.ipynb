{
 "cells": [
  {
   "cell_type": "markdown",
   "id": "c4a23ce4",
   "metadata": {},
   "source": [
    "# Strings and Files"
   ]
  },
  {
   "cell_type": "code",
   "execution_count": 2,
   "id": "020b077f",
   "metadata": {},
   "outputs": [
    {
     "name": "stdout",
     "output_type": "stream",
     "text": [
      "Come with me to the Lab\n",
      "Oh, I want to read in my room\n"
     ]
    }
   ],
   "source": [
    "str1 = \"Come with me to the Lab\"\n",
    "str2 = \"Oh, I want to read in my room\"\n",
    "print(str1)\n",
    "print(str2)"
   ]
  },
  {
   "cell_type": "markdown",
   "id": "57377ae2",
   "metadata": {},
   "source": [
    "# Indexing"
   ]
  },
  {
   "cell_type": "code",
   "execution_count": 3,
   "id": "4b672d75",
   "metadata": {},
   "outputs": [
    {
     "data": {
      "text/plain": [
       "'C'"
      ]
     },
     "execution_count": 3,
     "metadata": {},
     "output_type": "execute_result"
    }
   ],
   "source": [
    "str1[0]"
   ]
  },
  {
   "cell_type": "code",
   "execution_count": 4,
   "id": "baaeba43",
   "metadata": {},
   "outputs": [
    {
     "data": {
      "text/plain": [
       "'o'"
      ]
     },
     "execution_count": 4,
     "metadata": {},
     "output_type": "execute_result"
    }
   ],
   "source": [
    "str1[1]"
   ]
  },
  {
   "cell_type": "code",
   "execution_count": 11,
   "id": "ba3845bd",
   "metadata": {},
   "outputs": [
    {
     "name": "stdout",
     "output_type": "stream",
     "text": [
      "Come with me to the Lab\n",
      "The sixth character of my string is w\n"
     ]
    }
   ],
   "source": [
    "print(str1)\n",
    "print(\"The sixth character of my string is: \", str1[5])"
   ]
  },
  {
   "cell_type": "code",
   "execution_count": 10,
   "id": "751f7c5b",
   "metadata": {},
   "outputs": [
    {
     "name": "stdout",
     "output_type": "stream",
     "text": [
      "Oh, I want to read in my room\n",
      "The ninth character of my string is n\n"
     ]
    }
   ],
   "source": [
    "print(str2)\n",
    "print(\"The ninth character of my string is: \", str2[8])"
   ]
  },
  {
   "cell_type": "code",
   "execution_count": 14,
   "id": "ce25eb47",
   "metadata": {},
   "outputs": [
    {
     "name": "stdout",
     "output_type": "stream",
     "text": [
      "Come with me to the Lab\n",
      "The last character of my string is:  b\n"
     ]
    }
   ],
   "source": [
    "print(str1)\n",
    "print(\"The last character of my string is: \", str1[-1])"
   ]
  },
  {
   "cell_type": "markdown",
   "id": "a8c16080",
   "metadata": {},
   "source": [
    "# Slicing\n",
    "```python\n",
    "string[start:stop:step]\n",
    "```"
   ]
  },
  {
   "cell_type": "code",
   "execution_count": 20,
   "id": "c4950b96",
   "metadata": {},
   "outputs": [],
   "source": [
    "str3 = \"abcdefghijklmnopqrstuvwxyz\""
   ]
  },
  {
   "cell_type": "code",
   "execution_count": 22,
   "id": "10066b5d",
   "metadata": {},
   "outputs": [
    {
     "data": {
      "text/plain": [
       "'acegi'"
      ]
     },
     "execution_count": 22,
     "metadata": {},
     "output_type": "execute_result"
    }
   ],
   "source": [
    "str3[0:9:2]"
   ]
  },
  {
   "cell_type": "code",
   "execution_count": 25,
   "id": "187e70b8",
   "metadata": {},
   "outputs": [
    {
     "data": {
      "text/plain": [
       "'abcdefghi'"
      ]
     },
     "execution_count": 25,
     "metadata": {},
     "output_type": "execute_result"
    }
   ],
   "source": [
    "str3[0:9]"
   ]
  },
  {
   "cell_type": "code",
   "execution_count": 27,
   "id": "70502fa9",
   "metadata": {},
   "outputs": [
    {
     "data": {
      "text/plain": [
       "'defghijklmnopqrstuvwxyz'"
      ]
     },
     "execution_count": 27,
     "metadata": {},
     "output_type": "execute_result"
    }
   ],
   "source": [
    "str3[3::]"
   ]
  },
  {
   "cell_type": "code",
   "execution_count": 28,
   "id": "39ba14ac",
   "metadata": {},
   "outputs": [
    {
     "data": {
      "text/plain": [
       "'abcdefghijklmnopqrstuvwxyz'"
      ]
     },
     "execution_count": 28,
     "metadata": {},
     "output_type": "execute_result"
    }
   ],
   "source": [
    "str3[::] # From the beginning to the end (all)"
   ]
  },
  {
   "cell_type": "code",
   "execution_count": 29,
   "id": "74bb18a4",
   "metadata": {},
   "outputs": [
    {
     "data": {
      "text/plain": [
       "'ab'"
      ]
     },
     "execution_count": 29,
     "metadata": {},
     "output_type": "execute_result"
    }
   ],
   "source": [
    "str3[:2] # From the beginning to position 2"
   ]
  },
  {
   "cell_type": "code",
   "execution_count": 30,
   "id": "13445eba",
   "metadata": {},
   "outputs": [
    {
     "data": {
      "text/plain": [
       "'acegikmoqsuwy'"
      ]
     },
     "execution_count": 30,
     "metadata": {},
     "output_type": "execute_result"
    }
   ],
   "source": [
    "str3[::2] # From the beginning to the end but skips at step 2"
   ]
  },
  {
   "cell_type": "code",
   "execution_count": 32,
   "id": "2ac04a86",
   "metadata": {},
   "outputs": [
    {
     "data": {
      "text/plain": [
       "23"
      ]
     },
     "execution_count": 32,
     "metadata": {},
     "output_type": "execute_result"
    }
   ],
   "source": [
    "len(str1)"
   ]
  },
  {
   "cell_type": "code",
   "execution_count": 33,
   "id": "57efad40",
   "metadata": {},
   "outputs": [
    {
     "data": {
      "text/plain": [
       "29"
      ]
     },
     "execution_count": 33,
     "metadata": {},
     "output_type": "execute_result"
    }
   ],
   "source": [
    "len(str2)"
   ]
  },
  {
   "cell_type": "code",
   "execution_count": 34,
   "id": "57e6244a",
   "metadata": {},
   "outputs": [
    {
     "data": {
      "text/plain": [
       "26"
      ]
     },
     "execution_count": 34,
     "metadata": {},
     "output_type": "execute_result"
    }
   ],
   "source": [
    "len(str3)"
   ]
  },
  {
   "cell_type": "markdown",
   "id": "ffbc53ce",
   "metadata": {},
   "source": [
    "# Concatenation"
   ]
  },
  {
   "cell_type": "code",
   "execution_count": 36,
   "id": "0189ac27",
   "metadata": {},
   "outputs": [
    {
     "name": "stdout",
     "output_type": "stream",
     "text": [
      "Hello, World\n",
      "WorldHello, \n"
     ]
    }
   ],
   "source": [
    "var1 = \"Hello, \"\n",
    "var2 = \"World\"\n",
    "\n",
    "con1 = var1 + var2\n",
    "con2 = var2 + var1\n",
    "\n",
    "print(con1)\n",
    "print(con2)"
   ]
  },
  {
   "cell_type": "code",
   "execution_count": 42,
   "id": "05f77744",
   "metadata": {},
   "outputs": [
    {
     "name": "stdout",
     "output_type": "stream",
     "text": [
      "World\n"
     ]
    }
   ],
   "source": [
    "print(var2)"
   ]
  },
  {
   "cell_type": "code",
   "execution_count": 43,
   "id": "7c8773ad",
   "metadata": {},
   "outputs": [
    {
     "name": "stdout",
     "output_type": "stream",
     "text": [
      "WorldWorld\n"
     ]
    }
   ],
   "source": [
    "print(2*var2)"
   ]
  },
  {
   "cell_type": "code",
   "execution_count": 44,
   "id": "1784a635",
   "metadata": {},
   "outputs": [
    {
     "ename": "TypeError",
     "evalue": "can't multiply sequence by non-int of type 'float'",
     "output_type": "error",
     "traceback": [
      "\u001b[0;31m---------------------------------------------------------------------------\u001b[0m",
      "\u001b[0;31mTypeError\u001b[0m                                 Traceback (most recent call last)",
      "\u001b[0;32m/tmp/ipykernel_302506/283000501.py\u001b[0m in \u001b[0;36m<module>\u001b[0;34m\u001b[0m\n\u001b[0;32m----> 1\u001b[0;31m \u001b[0mprint\u001b[0m\u001b[0;34m(\u001b[0m\u001b[0;36m2.0\u001b[0m\u001b[0;34m*\u001b[0m\u001b[0mvar2\u001b[0m\u001b[0;34m)\u001b[0m\u001b[0;34m\u001b[0m\u001b[0;34m\u001b[0m\u001b[0m\n\u001b[0m",
      "\u001b[0;31mTypeError\u001b[0m: can't multiply sequence by non-int of type 'float'"
     ]
    }
   ],
   "source": [
    "print(2.0*var2)"
   ]
  },
  {
   "cell_type": "code",
   "execution_count": 45,
   "id": "6b491510",
   "metadata": {},
   "outputs": [
    {
     "data": {
      "text/plain": [
       "True"
      ]
     },
     "execution_count": 45,
     "metadata": {},
     "output_type": "execute_result"
    }
   ],
   "source": [
    "2 == 2.0"
   ]
  },
  {
   "cell_type": "code",
   "execution_count": 40,
   "id": "5825f0c3",
   "metadata": {},
   "outputs": [
    {
     "data": {
      "text/plain": [
       "int"
      ]
     },
     "execution_count": 40,
     "metadata": {},
     "output_type": "execute_result"
    }
   ],
   "source": [
    "type(2)"
   ]
  },
  {
   "cell_type": "code",
   "execution_count": 56,
   "id": "bdcb76f3",
   "metadata": {},
   "outputs": [
    {
     "name": "stdout",
     "output_type": "stream",
     "text": [
      "World\n"
     ]
    }
   ],
   "source": [
    "print(var2.capitalize())"
   ]
  },
  {
   "cell_type": "code",
   "execution_count": 58,
   "id": "4436af45",
   "metadata": {},
   "outputs": [
    {
     "name": "stdout",
     "output_type": "stream",
     "text": [
      "world\n"
     ]
    }
   ],
   "source": [
    "print(var2.casefold())"
   ]
  },
  {
   "cell_type": "code",
   "execution_count": 66,
   "id": "d7ee4edb",
   "metadata": {},
   "outputs": [
    {
     "name": "stdout",
     "output_type": "stream",
     "text": [
      "😊😊😊😊😊😊😊😊😊😊😊😊😊😊😊😊😊😊😊😊😊😊World😊😊😊😊😊😊😊😊😊😊😊😊😊😊😊😊😊😊😊😊😊😊😊\n"
     ]
    }
   ],
   "source": [
    "print(var2.center(50, \"😊\"))"
   ]
  },
  {
   "cell_type": "code",
   "execution_count": 67,
   "id": "bdc7eaa0",
   "metadata": {},
   "outputs": [
    {
     "data": {
      "text/plain": [
       "50"
      ]
     },
     "execution_count": 67,
     "metadata": {},
     "output_type": "execute_result"
    }
   ],
   "source": [
    "len((var2.center(50, \"😊\")))"
   ]
  },
  {
   "cell_type": "code",
   "execution_count": 68,
   "id": "0779a38a",
   "metadata": {},
   "outputs": [],
   "source": [
    "?var2.count"
   ]
  },
  {
   "cell_type": "markdown",
   "id": "49138373",
   "metadata": {},
   "source": [
    "# Importing txt file into Python"
   ]
  },
  {
   "cell_type": "code",
   "execution_count": 69,
   "id": "a73a30b5",
   "metadata": {},
   "outputs": [
    {
     "name": "stdout",
     "output_type": "stream",
     "text": [
      "command_mode.png\r\n",
      "edit_mode.png\r\n",
      "Emily.png\r\n",
      "menubar_toolbar.png\r\n",
      "olaoluwasubomi_ige_PP1.ipynb\r\n",
      "olaoluwasubomi_ige_Tutorial_1.ipynb\r\n",
      "Olaoluwasubomi_Lois_Ige-day00-report.ipynb\r\n",
      "Olaoluwasubomi_Lois_Ige-day01a-report.ipynb\r\n",
      "Olaoluwasubomi_Lois_Ige-day01b-report.ipynb\r\n",
      "Olaoluwasubomi_Lois_Ige-day2-report.ipynb\r\n",
      "Olaoluwasubomi_Lois_Ige-day4-report.ipynb\r\n",
      "PyPro-SCiDaS-day_00_introduction_to_jupyter_notebooks.ipynb\r\n",
      "PyPro-SCiDaS-day_01a_introduction_to_python.ipynb\r\n",
      "PyPro-SCiDaS-day_01b_variables-and-assignment.ipynb\r\n",
      "testfile.txt\r\n"
     ]
    }
   ],
   "source": [
    "!dir"
   ]
  },
  {
   "cell_type": "code",
   "execution_count": 70,
   "id": "f374ec8f",
   "metadata": {},
   "outputs": [
    {
     "name": "stdout",
     "output_type": "stream",
     "text": [
      "command_mode.png\r\n",
      "edit_mode.png\r\n",
      "Emily.png\r\n",
      "menubar_toolbar.png\r\n",
      "olaoluwasubomi_ige_PP1.ipynb\r\n",
      "olaoluwasubomi_ige_Tutorial_1.ipynb\r\n",
      "Olaoluwasubomi_Lois_Ige-day00-report.ipynb\r\n",
      "Olaoluwasubomi_Lois_Ige-day01a-report.ipynb\r\n",
      "Olaoluwasubomi_Lois_Ige-day01b-report.ipynb\r\n",
      "Olaoluwasubomi_Lois_Ige-day2-report.ipynb\r\n",
      "Olaoluwasubomi_Lois_Ige-day4-report.ipynb\r\n",
      "PyPro-SCiDaS-day_00_introduction_to_jupyter_notebooks.ipynb\r\n",
      "PyPro-SCiDaS-day_01a_introduction_to_python.ipynb\r\n",
      "PyPro-SCiDaS-day_01b_variables-and-assignment.ipynb\r\n",
      "testfile.txt\r\n"
     ]
    }
   ],
   "source": [
    "!ls"
   ]
  },
  {
   "cell_type": "code",
   "execution_count": null,
   "id": "546686dc",
   "metadata": {},
   "outputs": [],
   "source": [
    "# %load testfile.txt\n",
    "Lois Ige\n",
    "Gaone Kejang\n",
    "Precious Katai\n",
    "Peter Kayode\n",
    "Success Attaigu\n",
    "Olusola Ogundepo\n"
   ]
  },
  {
   "cell_type": "code",
   "execution_count": 91,
   "id": "111e97b4",
   "metadata": {},
   "outputs": [],
   "source": [
    "f = open('testfile.txt', 'r') #r is for reading the file"
   ]
  },
  {
   "cell_type": "code",
   "execution_count": 92,
   "id": "6e2c48b5",
   "metadata": {},
   "outputs": [
    {
     "data": {
      "text/plain": [
       "_io.TextIOWrapper"
      ]
     },
     "execution_count": 92,
     "metadata": {},
     "output_type": "execute_result"
    }
   ],
   "source": [
    "type(f)"
   ]
  },
  {
   "cell_type": "code",
   "execution_count": 93,
   "id": "16c1d542",
   "metadata": {},
   "outputs": [],
   "source": [
    "#help(open)"
   ]
  },
  {
   "cell_type": "code",
   "execution_count": 94,
   "id": "de979801",
   "metadata": {},
   "outputs": [
    {
     "data": {
      "text/plain": [
       "['Lois Ige\\n',\n",
       " 'Gaone Kejang\\n',\n",
       " 'Precious Katai\\n',\n",
       " 'Peter Kayode\\n',\n",
       " 'Success Attaigu\\n',\n",
       " 'Olusola Ogundepo\\n']"
      ]
     },
     "execution_count": 94,
     "metadata": {},
     "output_type": "execute_result"
    }
   ],
   "source": [
    "f.readlines()"
   ]
  },
  {
   "cell_type": "code",
   "execution_count": 95,
   "id": "0fc33565",
   "metadata": {},
   "outputs": [
    {
     "data": {
      "text/plain": [
       "''"
      ]
     },
     "execution_count": 95,
     "metadata": {},
     "output_type": "execute_result"
    }
   ],
   "source": [
    "f.read()"
   ]
  },
  {
   "cell_type": "code",
   "execution_count": 96,
   "id": "72773c57",
   "metadata": {},
   "outputs": [],
   "source": [
    "f.close()"
   ]
  },
  {
   "cell_type": "code",
   "execution_count": 97,
   "id": "f465b2d7",
   "metadata": {},
   "outputs": [
    {
     "ename": "ValueError",
     "evalue": "I/O operation on closed file.",
     "output_type": "error",
     "traceback": [
      "\u001b[0;31m---------------------------------------------------------------------------\u001b[0m",
      "\u001b[0;31mValueError\u001b[0m                                Traceback (most recent call last)",
      "\u001b[0;32m/tmp/ipykernel_302506/2457112938.py\u001b[0m in \u001b[0;36m<module>\u001b[0;34m\u001b[0m\n\u001b[0;32m----> 1\u001b[0;31m \u001b[0mf\u001b[0m\u001b[0;34m.\u001b[0m\u001b[0mread\u001b[0m\u001b[0;34m(\u001b[0m\u001b[0;34m)\u001b[0m \u001b[0;31m#it would be able to access the file again because it has been closed\u001b[0m\u001b[0;34m\u001b[0m\u001b[0;34m\u001b[0m\u001b[0m\n\u001b[0m",
      "\u001b[0;31mValueError\u001b[0m: I/O operation on closed file."
     ]
    }
   ],
   "source": [
    "f.read() #it wouldn't be able to access the file again because it has been closed"
   ]
  },
  {
   "cell_type": "code",
   "execution_count": 98,
   "id": "f38d8629",
   "metadata": {},
   "outputs": [],
   "source": [
    "to_write_in_file = open('inputfile.txt', 'w') \n",
    "to_write_in_file.write(\"pqrst \\naims class \\nRwanda 2025 \\nthis is really cool\")\n",
    "to_write_in_file.close()"
   ]
  },
  {
   "cell_type": "code",
   "execution_count": 99,
   "id": "f4ba9ce7",
   "metadata": {},
   "outputs": [
    {
     "data": {
      "text/plain": [
       "['pqrst \\n', 'aims class \\n', 'Rwanda 2025 \\n', 'this is really cool']"
      ]
     },
     "execution_count": 99,
     "metadata": {},
     "output_type": "execute_result"
    }
   ],
   "source": [
    "to_write_in_file = open('inputfile.txt', 'r') \n",
    "to_write_in_file.readlines()"
   ]
  },
  {
   "cell_type": "code",
   "execution_count": null,
   "id": "89f5100b",
   "metadata": {},
   "outputs": [],
   "source": [
    "# %load inputfile.txt\n",
    "pqrst \n",
    "aims class \n",
    "Rwanda 2025 \n",
    "this is really cool"
   ]
  }
 ],
 "metadata": {
  "kernelspec": {
   "display_name": "Python 3",
   "language": "python",
   "name": "python3"
  },
  "language_info": {
   "codemirror_mode": {
    "name": "ipython",
    "version": 3
   },
   "file_extension": ".py",
   "mimetype": "text/x-python",
   "name": "python",
   "nbconvert_exporter": "python",
   "pygments_lexer": "ipython3",
   "version": "3.9.2"
  }
 },
 "nbformat": 4,
 "nbformat_minor": 5
}
