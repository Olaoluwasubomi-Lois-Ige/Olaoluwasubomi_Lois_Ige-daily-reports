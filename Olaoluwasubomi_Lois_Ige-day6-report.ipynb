{
  "metadata": {
    "kernelspec": {
      "name": "xpython",
      "display_name": "Python 3.13 (XPython)",
      "language": "python"
    },
    "language_info": {
      "name": ""
    }
  },
  "nbformat_minor": 5,
  "nbformat": 4,
  "cells": [
    {
      "id": "7211f5a4-4322-41b0-a693-57fbb07e402d",
      "cell_type": "markdown",
      "source": "**Flow Control**",
      "metadata": {}
    },
    {
      "id": "a465b46b-ae71-4a30-93c5-f0ef2905f906",
      "cell_type": "code",
      "source": "# if clause\n\na = 27\n\nprint(a)",
      "metadata": {
        "trusted": true
      },
      "outputs": [
        {
          "name": "stdout",
          "output_type": "stream",
          "text": "27\n"
        }
      ],
      "execution_count": 1
    },
    {
      "id": "9b9682ae-cdf2-4c65-893c-28400fc5fd8b",
      "cell_type": "markdown",
      "source": "### `if` ... `else`\n```python\n    if condition:\n        Instructionn 1 ....\n```   ",
      "metadata": {}
    },
    {
      "id": "6b2e4b98-1d56-490c-b702-e37cb8a3a033",
      "cell_type": "code",
      "source": "a = 27\nprint(a)\nif(a<29):\n        print(\"We have it\")\nelse:\n    print(\"We do not have it\")",
      "metadata": {
        "trusted": true
      },
      "outputs": [
        {
          "name": "stdout",
          "output_type": "stream",
          "text": "27\nWe have it\n"
        }
      ],
      "execution_count": 2
    },
    {
      "id": "09cc1826-aa22-4636-85eb-2c03de753e3e",
      "cell_type": "markdown",
      "source": "### `if` ... `elif` ... `else`\n```python\n    if condition:\n        Instructionn 1 ....\n```   ",
      "metadata": {}
    },
    {
      "id": "529c12eb-e02a-47f2-b7af-61fa29eb6b14",
      "cell_type": "code",
      "source": "x = -5\nprint(x)\nif (x > 0):\n        print(\"x is positive\")\nelif (x < 0):\n    print(\"x is negative\")\nelse:\n    print(\"x is zero\")",
      "metadata": {
        "trusted": true
      },
      "outputs": [
        {
          "name": "stdout",
          "output_type": "stream",
          "text": "-5\nx is negative\n"
        }
      ],
      "execution_count": 3
    },
    {
      "id": "a3d5cad7-3c74-47dc-bafe-858f80b7abdc",
      "cell_type": "markdown",
      "source": "### Nested clauses\n\n```python\n    if condition:\n        Instructionn 1 ....\n            if condition:\n            else ...\n    else ...\n```   ",
      "metadata": {}
    },
    {
      "id": "e910153b-4867-49ea-b6ec-275c161e5be3",
      "cell_type": "code",
      "source": "a = 15\nb = 10\n\nif a > b:\n    print(\"a is greater than b\")\n    if (a - b > 5):\n        print(\"The difference is greater than 5\")\n    else:\n        print(\"The difference is less than or equal to 5\")\nelse:\n    print(\"a is lesser than b\")",
      "metadata": {
        "trusted": true
      },
      "outputs": [
        {
          "name": "stdout",
          "output_type": "stream",
          "text": "a is greater than b\nThe difference is less than or equal to 5\n"
        }
      ],
      "execution_count": 4
    },
    {
      "id": "d681decf-e89c-42bd-843d-57e77b8c194d",
      "cell_type": "code",
      "source": "a = int(input(\"Enter the value of a: \"))\nb = int(input(\"Enter the value of b: \"))\nc = int(input(\"Enter the value of c: \"))\nd = (b**2 - 4*a*c)\nif a!= 0:\n    if (d > 0):\n        x1 = ((-b+(d)**0.5)/(2*a))\n        x2 = -((-b+(d)**0.5)/(2*a))\n        print(\"This is quadratic equation has a 2 distinct roots: x1 =\", x1, \"and x2 =\", x2)\n    elif (d == 0):\n        print(\"This is quadratic equation has a 2 repeated roots: x1 =\", x1, \"and x2 =\", x2)\n    else:\n        print(\"This is quadratic equation has no roots\")\nelse:\n    print(\"This is not a quadratic equation\")",
      "metadata": {
        "trusted": true
      },
      "outputs": [
        {
          "output_type": "stream",
          "name": "stdin",
          "text": "Enter the value of a:  1\nEnter the value of b:  2\nEnter the value of c:  3\n"
        },
        {
          "name": "stdout",
          "output_type": "stream",
          "text": "This is quadratic equation has no roots\n"
        }
      ],
      "execution_count": 6
    },
    {
      "id": "073fb8fc-d977-4cb9-a0cc-e36cb86409c4",
      "cell_type": "markdown",
      "source": "### LOOPS\n`while`\n\n```python\n    initialize increment variable\n    while condition:\n        block_of_instruction\n        increment\n```\n`for`\n```python\n    for element in sequence_of_values:\n       block of instructions\n```",
      "metadata": {}
    },
    {
      "id": "6370decd-1ad4-4028-862d-9e349ad4989f",
      "cell_type": "markdown",
      "source": "### `WHILE` LOOP",
      "metadata": {}
    },
    {
      "id": "86aa9dad-2efc-4d95-9869-0b83aee9e5e0",
      "cell_type": "code",
      "source": "i = -2\nwhile (i < 10):\n    print(\"The value of i is \", i)\n    i = i + 1",
      "metadata": {
        "trusted": true
      },
      "outputs": [
        {
          "name": "stdout",
          "output_type": "stream",
          "text": "The value of i is  -2\nThe value of i is  -1\nThe value of i is  0\nThe value of i is  1\nThe value of i is  2\nThe value of i is  3\nThe value of i is  4\nThe value of i is  5\nThe value of i is  6\nThe value of i is  7\nThe value of i is  8\nThe value of i is  9\n"
        }
      ],
      "execution_count": 7
    },
    {
      "id": "4fa63165-1670-4322-9222-027fca752c14",
      "cell_type": "markdown",
      "source": "`for` LOOP",
      "metadata": {}
    },
    {
      "id": "75f4c1e1-5f12-4b5a-aa0c-6cba0f599432",
      "cell_type": "code",
      "source": "n = 10\nfor i in range(n):\n    print(i)",
      "metadata": {
        "trusted": true
      },
      "outputs": [
        {
          "name": "stdout",
          "output_type": "stream",
          "text": "0\n1\n2\n3\n4\n5\n6\n7\n8\n9\n"
        }
      ],
      "execution_count": 8
    },
    {
      "id": "cfc049bf-615b-451d-9a44-442bfa6b59ec",
      "cell_type": "code",
      "source": "for char in \"I \\n LOVE \\n YOU\":\n    print(char)",
      "metadata": {
        "trusted": true
      },
      "outputs": [
        {
          "name": "stdout",
          "output_type": "stream",
          "text": "I\n \n\n\n \nL\nO\nV\nE\n \n\n\n \nY\nO\nU\n"
        }
      ],
      "execution_count": 9
    },
    {
      "id": "4fd8ba53-3579-4a6a-8a96-728504cc4cf0",
      "cell_type": "code",
      "source": "list_fr=[3,5,\"hello\",98]\nfor i in list_fr:\n    if i == 5:\n        print(\"We found it\")\n    else:\n        print(\"Not Found\")",
      "metadata": {
        "trusted": true
      },
      "outputs": [
        {
          "name": "stdout",
          "output_type": "stream",
          "text": "Not Found\nWe found it\nNot Found\nNot Found\n"
        }
      ],
      "execution_count": 10
    },
    {
      "id": "49cab656-ddec-4385-b314-ae7b82c5166f",
      "cell_type": "code",
      "source": "expression = str(input(\"Enter a word, phrase or sentence: \" ))\n#phrase = \"I am IGE Olaoluwasubomi Lois\"\nfor letter in expression:\n    if letter in \"AEIOUaeiou\":\n        print(\"The letter\", letter, \"found in the phrase is a Vowel\")\n    elif letter == \" \":\n        print(\"This is a empty space\")\n    elif letter == \".\":\n        print(\"The symbol\", letter,\" is a punctuation mark\")\n    elif letter == \",\":\n        print(\"The symbol\", letter,\" is a comma\")\n    elif letter == \"?\":\n        print(\"The symbol\", letter,\" is a question mark\")\n    else:\n        print(\"The letter\", letter, \"is not found in the phrase\")",
      "metadata": {
        "trusted": true
      },
      "outputs": [
        {
          "output_type": "stream",
          "name": "stdin",
          "text": "Enter a word, phrase or sentence:  I am happy?\n"
        },
        {
          "name": "stdout",
          "output_type": "stream",
          "text": "The letter I found in the phrase is a Vowel\nThis is a empty space\nThe letter a found in the phrase is a Vowel\nThe letter m is not found in the phrase\nThis is a empty space\nThe letter h is not found in the phrase\nThe letter a found in the phrase is a Vowel\nThe letter p is not found in the phrase\nThe letter p is not found in the phrase\nThe letter y is not found in the phrase\nThe symbol ?  is a question mark\n"
        }
      ],
      "execution_count": 11
    }
  ]
}