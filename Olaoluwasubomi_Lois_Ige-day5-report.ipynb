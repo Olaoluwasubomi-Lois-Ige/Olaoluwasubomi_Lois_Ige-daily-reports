{
  "metadata": {
    "kernelspec": {
      "name": "python",
      "display_name": "Python (Pyodide)",
      "language": "python"
    },
    "language_info": {
      "codemirror_mode": {
        "name": "python",
        "version": 3
      },
      "file_extension": ".py",
      "mimetype": "text/x-python",
      "name": "python",
      "nbconvert_exporter": "python",
      "pygments_lexer": "ipython3",
      "version": "3.8"
    },
    "colab": {
      "provenance": []
    }
  },
  "nbformat_minor": 4,
  "nbformat": 4,
  "cells": [
    {
      "cell_type": "markdown",
      "source": "# Lecture 3: Iterable Objects or Containers",
      "metadata": {
        "id": "Xu9M_kjY-rAo"
      }
    },
    {
      "cell_type": "markdown",
      "source": "### <left> <b> <span style=\"color:brown;\"> Objective: </span> </b></left>\n\nThis lecture aims to present `iterable objects` and `containers`, focusing on `lists`, `tuples`, `dictionaries`, and `sets`. We will review some of the most commonly encountered operations with these data structures, particularly in data organization and retrieval tasks. Additionally, we will explore how to use `lists`, `tuples`, `dictionaries`, and `sets` to efficiently store and manage collections of data.\n****",
      "metadata": {
        "id": "d2ctw_CB-rA0"
      }
    },
    {
      "cell_type": "markdown",
      "source": "As mentioned in previous sections, a Python program always operates based on the manipulation of objects. The instructions (whether defined in a free code, within an if clause, or in a while or for loop) are always executed on objects. Variables, as previously discussed, represent a particular type of Python object. In general, instructions in a Python program are defined from a collection of objects that come in various forms of value sequences. This sequence of values can, for example, consist of a set of variables with a single value. This ultimately means that a variable defined by a single value is generally not sufficient to form the architecture of a program. In the Python language, we have:\n\n   - A **list** object is a sequence of values (numerical and/or characters) that are **indexed** and specified within **square brackets**, separated by commas. Example:\n      ```python\n         x = [1, 5, 8, 10, 4, 50, 8] # List consisting only of numbers\n         y = [\"Olivier\", \"ENGEL\", \"Strasbourg\"] # List consisting only of characters\n         z = [1, \"Olivier\", 5, 8, \"ENGEL\", 10, 4, 50, \"Strasbourg\"] # List consisting of both numbers and characters.\n       \n      ```\n     A list object can be generated manually by specifying the values within square brackets or automatically using the `list()` function.\n      ```python\n        x = list(range(1, 10))\n        print(x) # returns [1, 2, 3, 4, 5, 6, 7, 8, 9]\n     ```\n   - A **tuple** object is a sequence of values (numerical and/or characters) that are **indexed** and specified within **parentheses**, separated by commas. Example:\n      ```python\n         x = (1, 5, 8, 10, 4, 50, 8) # Tuple consisting only of numbers\n         y = (\"Olivier\", \"ENGEL\", \"Strasbourg\") # Tuple consisting only of characters\n         z = (1, \"Olivier\", 5, 8, \"ENGEL\", 10, 4, 50, \"Strasbourg\") # Tuple consisting of both numbers and characters.\n       \n      ```\n     A tuple object can be generated manually by specifying the values within parentheses or automatically using the `tuple()` function.\n      ```python\n        x = tuple(range(1, 10))\n        print(x) # returns (1, 2, 3, 4, 5, 6, 7, 8, 9)\n     ```\n     \n   - A **set** object is a sequence of values (numerical and/or characters) that are **non-duplicated** and **non-indexed**, and specified within **curly braces**, separated by commas. Example:\n      ```python\n         x = {1, 5, 8, 10, 4, 50, 8} # Set consisting only of numbers\n         y = {\"Olivier\", \"ENGEL\", \"Strasbourg\"} # Set consisting only of characters\n         z = {1, \"Olivier\", 5, 8, \"ENGEL\", 10, 4, 50, \"Strasbourg\"} # Set consisting of both numbers and characters.\n       \n      ```\n     A set object can be generated manually by specifying the values within curly braces or automatically using the `set()` function.\n      ```python\n         v = [2, 4, \"orange\", \"meat\", 4, \"orange\"]\n         V = set(v)\n         print(V) # returns {2, 'orange', 4, 'meat'}\n      \n      ```\n   - A **dictionary** object is a sequence of values (numerical and/or characters) that are **indexed** by keys and specified within **curly braces**, separated by commas. Each `key` corresponds to one or more `values`. A dictionary consists of a set of `key-value` pairs. Example:   \n      ```python\n         x = {'name': 'Jean', 'weight': 70, 'height': 1.75} # Keys with unique values.\n         y = {'Jean': [25, 70, 1.75], 'Paul': [30, 65, 1.80], 'Pierre': [35, 75, 1.65]} # Key with multiple values formed by a list\n      \n      ```\n   In the dictionary `x`, the keys are name, weight, and height. The values corresponding to each of these keys are Jean, 70, and 1.75, respectively.\nIn the dictionary `y`, the keys are Jean, Paul, and Pierre, while the values are lists consisting of three elements (age, weight, and height).\nA dictionary object can be generated manually by specifying the values within curly braces or automatically using the `dict()` function to create an empty dictionary. We will delve more into the definition of dictionaries later.\n\nThe four objects we have just mentioned are also what we call `containers` simply because they `can contain` something. Thus, strings, lists, tuples, and dictionaries are the basic iterable objects in Python. Lists and dictionaries are mutable – their elements can be changed on the fly – while strings and tuples are immutable.\n\nThe following three objects we mention are not iterable, but we will study them in more detail later on.\n\n   - A **function** object is a program designed to perform a specific operation. For example, the `print()` function is used to display the result of the instruction provided to it on the screen;\n   - A **class** object is a collection of functions, that is, an association of related functions;\n   - A **module** object is a collection of classes, that is, a collection of related classes.\"",
      "metadata": {
        "id": "d_wvIhBW-rA3"
      }
    },
    {
      "cell_type": "markdown",
      "source": "## 0. Lists\n\n\n### 0.0. Definition of a list object\n\nA list object can be declared and defined manually or by using the `list()` function. There are two categories of lists: one-dimensional lists (or simple lists) and multi-dimensional lists.\n\n- A simple list is a list whose elements consist of unique values separated by commas.",
      "metadata": {
        "id": "sHFro4gT-rA7"
      }
    },
    {
      "cell_type": "code",
      "source": "temperature = [10.0, 15.0, 20.0, 25.0, 30.0]\npressure = [1.0, 1.2, 1.4, 1.6, 1.8]\n\nprint(temperature)\nprint(\"------ DATA SPLIT --------\")\nprint(pressure)",
      "metadata": {
        "id": "Mf9iZKui-rA9",
        "outputId": "0ad0308e-d9de-48bb-d91e-39562c0c32a0",
        "trusted": true
      },
      "outputs": [
        {
          "name": "stdout",
          "output_type": "stream",
          "text": "[10.0, 15.0, 20.0, 25.0, 30.0]\n------ DATA SPLIT --------\n[1.0, 1.2, 1.4, 1.6, 1.8]\n"
        }
      ],
      "execution_count": 11
    },
    {
      "cell_type": "code",
      "source": "type(temperature) # Returns the type of the variable 'courant'",
      "metadata": {
        "id": "PTlMVW_H-rBD",
        "outputId": "2d8c36f7-3a6e-4492-c399-7b6aee4984f8",
        "trusted": true
      },
      "outputs": [
        {
          "execution_count": 12,
          "output_type": "execute_result",
          "data": {
            "text/plain": "list"
          },
          "metadata": {}
        }
      ],
      "execution_count": 12
    },
    {
      "cell_type": "code",
      "source": "type(pressure)",
      "metadata": {
        "id": "Zivr59vo-rBF",
        "outputId": "23eb2a7a-a60d-4063-834d-f1b6eec3896a",
        "trusted": true
      },
      "outputs": [
        {
          "execution_count": 13,
          "output_type": "execute_result",
          "data": {
            "text/plain": "list"
          },
          "metadata": {}
        }
      ],
      "execution_count": 13
    },
    {
      "cell_type": "code",
      "source": "help(temperature.sort())",
      "metadata": {
        "id": "9xjl2_cO-rBH",
        "outputId": "cc7e713f-2739-4350-e6e3-671bb2b838ff",
        "trusted": true
      },
      "outputs": [
        {
          "name": "stdout",
          "output_type": "stream",
          "text": "Help on NoneType object:\n\nclass NoneType(object)\n |  Methods defined here:\n |\n |  __bool__(self, /)\n |      True if self else False\n |\n |  __eq__(self, value, /)\n |      Return self==value.\n |\n |  __ge__(self, value, /)\n |      Return self>=value.\n |\n |  __gt__(self, value, /)\n |      Return self>value.\n |\n |  __hash__(self, /)\n |      Return hash(self).\n |\n |  __le__(self, value, /)\n |      Return self<=value.\n |\n |  __lt__(self, value, /)\n |      Return self<value.\n |\n |  __ne__(self, value, /)\n |      Return self!=value.\n |\n |  __repr__(self, /)\n |      Return repr(self).\n |\n |  ----------------------------------------------------------------------\n |  Static methods defined here:\n |\n |  __new__(*args, **kwargs)\n |      Create and return a new object.  See help(type) for accurate signature.\n\n"
        }
      ],
      "execution_count": 14
    },
    {
      "cell_type": "markdown",
      "source": "Moreover, in some situations, you may first create an empty list which will later be filled with values using the `append()` function. To create an empty list, you can use:\n`x = list()` or `x = []`.",
      "metadata": {
        "id": "Lc3gKQnK-rBJ"
      }
    },
    {
      "cell_type": "code",
      "source": "x = [1, 2, 3]\nx.append(4)\nprint(x) ",
      "metadata": {
        "trusted": true
      },
      "outputs": [
        {
          "name": "stdout",
          "output_type": "stream",
          "text": "[1, 2, 3, 4]\n"
        }
      ],
      "execution_count": 15
    },
    {
      "cell_type": "markdown",
      "source": "- Unlike a simple list, a multi-dimensional list is a list where the individual elements consist of multiple values. In general, a multi-dimensional list is presented as a list of lists.",
      "metadata": {
        "id": "ERO0wpUb-rBK"
      }
    },
    {
      "cell_type": "code",
      "source": "matrix = [[10,20,30],[40,50,60],[70,80,90]]\ncube = [[[1,10],[2,20]], [[3,30],[4,40]]] \n\nmatrix, cube",
      "metadata": {
        "id": "AsTf_vmV-rBL",
        "outputId": "f680af26-c1bd-4e7b-9db3-44929b96968c",
        "trusted": true
      },
      "outputs": [
        {
          "execution_count": 16,
          "output_type": "execute_result",
          "data": {
            "text/plain": "([[10, 20, 30], [40, 50, 60], [70, 80, 90]],\n [[[1, 10], [2, 20]], [[3, 30], [4, 40]]])"
          },
          "metadata": {}
        }
      ],
      "execution_count": 16
    },
    {
      "cell_type": "markdown",
      "source": "Since a list is a sequence of indexed values, you can access each value or groups of values by specifying their index:",
      "metadata": {
        "id": "CGjO7fcg-rBN"
      }
    },
    {
      "cell_type": "code",
      "source": "items = list(['January', 'February', 'March', 2025, 99.99, 'April', 'May'])\nprint(items) ",
      "metadata": {
        "id": "_7U2f1s6-rBN",
        "outputId": "b72e3390-2bd8-400e-8812-359fa9603d6c",
        "trusted": true
      },
      "outputs": [
        {
          "name": "stdout",
          "output_type": "stream",
          "text": "['January', 'February', 'March', 2025, 99.99, 'April', 'May']\n"
        }
      ],
      "execution_count": 17
    },
    {
      "cell_type": "code",
      "source": "months = ['Jan', 'Feb', 'Mar', 'Apr', 'May', 'Jun', 'Jul']\n\nprint(months[0])      # First element: 'Jan'\nprint(\"================================================\\n\")\n\nprint(months[3])      # Element at index 3: 'Apr'\nprint(\"================================================\\n\")\n\nprint(months[1:3])    # Elements from index 1 to 2 (excludes 3): ['Feb', 'Mar']\nprint(\"================================================\\n\")\n\nprint(months[1:6:2])  # Elements 1 to 5, step 2: ['Feb', 'Apr', 'Jun']\nprint(\"================================================\\n\")\n\nprint(months[2:])     # From index 2 onward: ['Mar', 'Apr', 'May', 'Jun', 'Jul']\nprint(\"================================================\\n\")\n\nprint(months[:3])     # From start up to index 2: ['Jan', 'Feb', 'Mar']\nprint(\"================================================\\n\")\n\nprint(months[-1])     # Last element: 'Jul'\nprint(\"================================================\\n\")\n\nprint(months[-2])     # Second to last: 'Jun'\nprint(\"================================================\\n\")\n\nprint(months[::2])    # Every 2nd element: ['Jan', 'Mar', 'May', 'Jul']\nprint(\"================================================\\n\")\n\nprint(months[::-1])   # Reversed list: ['Jul', 'Jun', 'May', 'Apr', 'Mar', 'Feb', 'Jan']\n# Alternative: in-place reverse\nmonths.reverse()\nprint(months)         # ['Jul', 'Jun', 'May', 'Apr', 'Mar', 'Feb', 'Jan']",
      "metadata": {
        "id": "71b3mlkN-rBP",
        "outputId": "874c8e7e-c554-44aa-c85c-e3a72899ac16",
        "trusted": true
      },
      "outputs": [
        {
          "name": "stdout",
          "output_type": "stream",
          "text": "Jan\n================================================\n\nApr\n================================================\n\n['Feb', 'Mar']\n================================================\n\n['Feb', 'Apr', 'Jun']\n================================================\n\n['Mar', 'Apr', 'May', 'Jun', 'Jul']\n================================================\n\n['Jan', 'Feb', 'Mar']\n================================================\n\nJul\n================================================\n\nJun\n================================================\n\n['Jan', 'Mar', 'May', 'Jul']\n================================================\n\n['Jul', 'Jun', 'May', 'Apr', 'Mar', 'Feb', 'Jan']\n['Jul', 'Jun', 'May', 'Apr', 'Mar', 'Feb', 'Jan']\n"
        }
      ],
      "execution_count": 18
    },
    {
      "cell_type": "markdown",
      "source": "With a multi-dimensional list, indexing is done at multiple levels. For example",
      "metadata": {
        "id": "LrB7RU9D-rBQ"
      }
    },
    {
      "cell_type": "code",
      "source": "x = [[1, 2, 3], [2, 3, 4], [3, 4, 5]]\nprint(x)\nprint(\"================================================\")\nprint('\\t')\n\nprint(x[0]) # Returns the first sublist [1, 2, 3]\nprint(\"================================================\")\nprint('\\t')\n\nprint(x[0][0]) # Returns the first element of the first sublist, which is 1\nprint(\"================================================\")\nprint('\\t')\n\nprint(x[2]) # Returns the third sublist [3, 4, 5]\nprint(\"================================================\")\nprint('\\t')\n\nprint(x[2][1]) # Returns the element at index 1 of the third sublist, which is 4\nprint(\"================================================\")\nprint('\\t')\n\nprint(x[1:]) # Returns all sublists starting from index 1: [[2, 3, 4], [3, 4, 5]]\nprint(\"================================================\")\nprint('\\t')\n\nprint(x[1:][0]) # Returns the first sublist from the sliced list: [2, 3, 4]\nprint(\"================================================\")\nprint('\\t')\n\nprint(x[-1]) # Returns the last sublist [3, 4, 5]\nprint(\"================================================\")\nprint('\\t')\n\nprint(x[1][:2]) # Returns the first two elements of the second sublist: [2, 3]\nprint(\"================================================\")\nprint('\\t')\n\nprint(x[1][1:]) # Returns elements from index 1 to the end of the second sublist: [3, 4]\n",
      "metadata": {
        "id": "vTPh-HOF-rBR",
        "outputId": "64038bf7-3ff2-42bf-af0f-4f421bcb80da"
      },
      "outputs": [
        {
          "name": "stdout",
          "output_type": "stream",
          "text": "[[1, 2, 3], [2, 3, 4], [3, 4, 5]]\n,================================================\n,\t\n,[1, 2, 3]\n,================================================\n,\t\n,1\n,================================================\n,\t\n,[3, 4, 5]\n,================================================\n,\t\n,4\n,================================================\n,\t\n,[[2, 3, 4], [3, 4, 5]]\n,================================================\n,\t\n,[2, 3, 4]\n,================================================\n,\t\n,[3, 4, 5]\n,================================================\n,\t\n,[2, 3]\n,================================================\n,\t\n,[3, 4]\n"
        }
      ],
      "execution_count": null
    },
    {
      "cell_type": "markdown",
      "source": "### 0.1. The `range()` Function\n\nValue sequences are variables that are frequently encountered in Python programs. They represent a set of successive and ordered values that can be extracted like a list. Value sequences are generated using the `range()` function.\n\nThe function has the following syntax:\n\n```python\nrange(start, stop, step)\n```\n\n - start (optional): The value of the first number in the sequence. If omitted, the sequence starts from 0.\n - stop: The end of the sequence. This value is not included in the sequence.\n - step (optional): The difference between each pair of consecutive values in the sequence. If omitted, the default step is 1.\n\nExample:",
      "metadata": {
        "id": "kVQYQF4U-rBS"
      }
    },
    {
      "cell_type": "code",
      "source": "x = range(10) # Creates a sequence of integer values from 0 to 9\nprint(x)\nprint(\"================================================\")\nprint('\\t')\n\nx = range(2, 10) # Creates a sequence of integer values from 2 to 9\nprint(x)\nprint(\"================================================\")\nprint('\\t')\n\nx = range(1, 10, 2) # Creates a sequence of integer values from 1 to 9 with a step of 2. It returns 1, 3, 5, 7, and 9\nprint(x)\n",
      "metadata": {
        "id": "RKZ3kicO-rBT",
        "outputId": "d67bdbcd-d861-4f28-f19d-c42f069227df",
        "trusted": true
      },
      "outputs": [
        {
          "name": "stdout",
          "output_type": "stream",
          "text": "range(0, 10)\n================================================\n\t\nrange(2, 10)\n================================================\n\t\nrange(1, 10, 2)\n"
        }
      ],
      "execution_count": 2
    },
    {
      "cell_type": "code",
      "source": "To display the generated values, you can use the `list()` function, as shown below:",
      "metadata": {
        "id": "pOxa7zk0-rBU",
        "outputId": "f2bf438b-85a2-4913-e3d4-ef9b36f31845"
      },
      "outputs": [
        {
          "ename": "SyntaxError",
          "evalue": "invalid syntax (526909166.py, line 1)",
          "output_type": "error",
          "traceback": [
            "\u001b[0;36m  Cell \u001b[0;32mIn [46], line 1\u001b[0;36m\u001b[0m\n\u001b[0;31m    To display the generated values, you can use the `list()` function, as shown below:\u001b[0m\n\u001b[0m       ^\u001b[0m\n\u001b[0;31mSyntaxError\u001b[0m\u001b[0;31m:\u001b[0m invalid syntax\n"
          ]
        }
      ],
      "execution_count": null
    },
    {
      "cell_type": "code",
      "source": "x = range(10)\n\nprint(list(x)) # Returns a list: values in square brackets [0, 1, 2, 3, 4, 5, 6, 7, 8, 9]\n",
      "metadata": {
        "id": "LOkcKEva-rBV",
        "outputId": "110a22f7-77b7-42e2-bc89-09fb013e61ff"
      },
      "outputs": [
        {
          "name": "stdout",
          "output_type": "stream",
          "text": "[0, 1, 2, 3, 4, 5, 6, 7, 8, 9]\n"
        }
      ],
      "execution_count": null
    },
    {
      "cell_type": "markdown",
      "source": "### 0.2. Operations on Lists\n\nOnce a list is defined, several operations can be performed to modify its structure or its elements.\n\n- To find the number of elements in a list, we use the `len()` function. Example: consider the list `x` defined as follows:\n```python\n   x = ['Monday', 'Tuesday', 'Wednesday', 1800, 20.357, 'Thursday', 'Friday']\n```\nTo find the length of `x` (the number of elements in `x`), we do:\n```python\n    print(len(x)) # returns 7\n```",
      "metadata": {
        "id": "wzGm392B-rBW"
      }
    },
    {
      "cell_type": "code",
      "source": "x = ['Monday', 'Tuesday', 'Wednesday', 1800, 20.357, 'Thursday', 'Friday']\nprint(len(x)) # returns 7",
      "metadata": {
        "id": "vLq0A2xh-rBX",
        "outputId": "b4dc832c-faf5-4661-ede7-ebaa541299e5"
      },
      "outputs": [
        {
          "name": "stdout",
          "output_type": "stream",
          "text": "7\n"
        }
      ],
      "execution_count": null
    },
    {
      "cell_type": "markdown",
      "source": "- We can concatenate two lists to form a single list using the `+` operator, which allows for list concatenation:\n```python\n   x = ['giraffe', 'tiger']\n   y = ['monkey', 'mouse']\n   z = x + y\n   print(z) # returns ['giraffe', 'tiger', 'monkey', 'mouse']\n```",
      "metadata": {
        "id": "GtY-1ip3-rBY"
      }
    },
    {
      "cell_type": "code",
      "source": "x = ['giraffe', 'tiger']\ny = ['monkey', 'mouse']\nz = x + y\nprint(z) # returns ['giraffe', 'tiger', 'monkey', 'mouse']",
      "metadata": {
        "id": "WxHeNEED-rBY",
        "outputId": "dce67395-d522-4cb6-8ab0-cf7c57317094"
      },
      "outputs": [
        {
          "name": "stdout",
          "output_type": "stream",
          "text": "['giraffe', 'tiger', 'monkey', 'mouse']\n"
        }
      ],
      "execution_count": null
    },
    {
      "cell_type": "markdown",
      "source": "- We can repeat the elements of a list using the multiplication operator `*`:\n```python\n    x = ['giraffe', 24, 18, 'tiger', 2400, 150]\n    y = x * 3\n    print(y) # returns ['giraffe', 24, 18, 'tiger', 2400, 150, 'giraffe', 24, 18, 'tiger', 2400, 150, 'giraffe', 24, 18, 'tiger', 2400, 150]\n```",
      "metadata": {
        "id": "WtnpB3m0-rBZ"
      }
    },
    {
      "cell_type": "code",
      "source": "x = ['giraffe', 24, 18, 'tiger', 2400, 150]\ny = x * 3\nprint(y) # returns ['giraffe', 24, 18, 'tiger', 2400, 150, 'giraffe', 24, 18,\n         # 'tiger', 2400, 150, 'giraffe', 24, 18, 'tiger', 2400, 150]",
      "metadata": {
        "id": "9iTpu9Ss-rBa",
        "outputId": "81b67781-f811-4ef5-a369-681afc99af4d"
      },
      "outputs": [
        {
          "name": "stdout",
          "output_type": "stream",
          "text": "['giraffe', 24, 18, 'tiger', 2400, 150, 'giraffe', 24, 18, 'tiger', 2400, 150, 'giraffe', 24, 18, 'tiger', 2400, 150]\n"
        }
      ],
      "execution_count": null
    },
    {
      "cell_type": "markdown",
      "source": "- It is possible to modify a particular element in a list by using its index:\n```python\n    x = ['Monday', 'Tuesday', 'Wednesday', 1800, 20.357, 'Thursday', 'Friday']\n    x[3] = x[3] + 100\n    print(x) # returns ['Monday', 'Tuesday', 'Wednesday', 1900, 20.357, 'Thursday', 'Friday']\n    \n    x[6] = x[6] + ' Saint' # Note the space in ' Saint', otherwise you'll get 'FridaySaint'.\n    print(x) # returns ['Monday', 'Tuesday', 'Wednesday', 1900, 20.357, 'Thursday', 'Friday Saint']\n```",
      "metadata": {
        "id": "xjhflcGe-rBa"
      }
    },
    {
      "cell_type": "code",
      "source": "x = ['Monday', 'Tuesday', 'Wednesday', 1800, 20.357, 'Thursday', 'Friday']\nx[3] = x[3] + 100\nprint(x) # returns ['Monday', 'Tuesday', 'Wednesday', 1900, 20.357, 'Thursday', 'Friday']\n\nprint(\"==================================================================\\n\")\nx[6] = x[6] + ' Saint' # Note the space in ' Saint', otherwise you'll get 'FridaySaint'.\nprint(x) # returns ['Monday', 'Tuesday', 'Wednesday', 1900, 20.357, 'Thursday', 'Friday Saint']",
      "metadata": {
        "id": "VtP1-vEO-rBb",
        "outputId": "64661f18-d245-4d20-faeb-2d3062e2b473",
        "trusted": true
      },
      "outputs": [
        {
          "name": "stdout",
          "output_type": "stream",
          "text": "['Monday', 'Tuesday', 'Wednesday', 1900, 20.357, 'Thursday', 'Friday']\n==================================================================\n\n['Monday', 'Tuesday', 'Wednesday', 1900, 20.357, 'Thursday', 'Friday Saint']\n"
        }
      ],
      "execution_count": 5
    },
    {
      "cell_type": "markdown",
      "source": "- New elements can be added in addition to the initial elements. For this, we use the `append()` function:\n```python\n    x = ['Monday', 'Tuesday', 'Wednesday', 'Thursday', 'Friday']\n    x.append('Saturday')\n    x.append('Sunday')\n    print(x)\n```",
      "metadata": {
        "id": "iOCpUgoL-rBc"
      }
    },
    {
      "cell_type": "code",
      "source": "x = ['Monday', 'Tuesday', 'Wednesday', 'Thursday', 'Friday']\nx.append('Saturday')\nx.append('Sunday')\nprint(x)",
      "metadata": {
        "id": "k02Chscz-rBc",
        "outputId": "f7232c11-68e9-43da-8c99-a330cac499de"
      },
      "outputs": [
        {
          "name": "stdout",
          "output_type": "stream",
          "text": "['Monday', 'Tuesday', 'Wednesday', 'Thursday', 'Friday', 'Saturday', 'Sunday']\n"
        }
      ],
      "execution_count": null
    },
    {
      "cell_type": "markdown",
      "source": "As we can see, the `append()` function can only add one element to a list at a time. Therefore, we can use the `extend()` function when we want to add multiple elements at once. Example:\n```python\n    x = ['Monday', 'Tuesday', 'Wednesday', 'Thursday', 'Friday']\n    x.extend(['Saturday', 'Sunday'])\n    print(x)\n```",
      "metadata": {
        "id": "NAexHG0u-rBd"
      }
    },
    {
      "cell_type": "code",
      "source": "x = ['Monday', 'Tuesday', 'Wednesday', 'Thursday', 'Friday']\nx.extend(['Saturday', 'Sunday'])\nprint(x)",
      "metadata": {
        "id": "MSa6cYvV-rBe",
        "outputId": "0fad5ced-4564-4ef0-fb12-e5a60060a615"
      },
      "outputs": [
        {
          "name": "stdout",
          "output_type": "stream",
          "text": "['Monday', 'Tuesday', 'Wednesday', 'Thursday', 'Friday', 'Saturday', 'Sunday']\n"
        }
      ],
      "execution_count": null
    },
    {
      "cell_type": "markdown",
      "source": "****\nFor further study, explore the following methods and how they operate on lists:\n`insert()`, `remove()`, `delete()`, `index()`, `count()`, `join()`, `zip()`.\n***",
      "metadata": {
        "id": "mkdFEbtS-rBe"
      }
    },
    {
      "cell_type": "markdown",
      "source": "<left> <b> <span style=\"color:brown;\">Given that their usage is quite uncommon, we will not cover `tuple` and `set` objects in this course. The brief presentation given above is relatively sufficient, and readers who explicitly need more information can consult the extensive documentation available online. </span> </b></left>\n\nHowever, we can mention that a `set` is an unordered iterable collection of distinct hashable elements and that classic mathematical operations on sets can be performed in Python. For example:",
      "metadata": {
        "id": "uh8UNMr0-rBf"
      }
    },
    {
      "cell_type": "markdown",
      "source": "<center>\n    <img src=\"images/set.png\" width=\"20%></center>\n                              \n                   ",
      "metadata": {
        "id": "uQ08OMEo-rBg"
      }
    },
    {
      "cell_type": "markdown",
      "source": "```python\n   X, Y = set('abcd'), set('sbds')\n   print(\"X =\", X) # X = {'a', 'c', 'b', 'd'}\n   print(\"Y =\", Y) # Y = {'s', 'b', 'd'} : only one element 's'\n    \n   print('c' in X)  # True\n   print('a' in Y)  # False\n   print(X - Y)     # {'a', 'c'}\n   print(Y - X)     # {'s'}\n   print(X | Y)     # {'a', 'c', 'b', 'd', 's'}\n   print(X & Y)     # {'b', 'd'}\n```          ",
      "metadata": {
        "id": "81ljOZe--rBg"
      }
    },
    {
      "cell_type": "code",
      "source": "X, Y = set('abcd'), set('sbds')\nprint(\"X =\", X) # X = {'a', 'c', 'b', 'd'}\nprint(\"=========================================\\n\")\n\nprint(\"Y =\", Y) # Y = {'s', 'b', 'd'} : only one element 's'\nprint(\"=========================================\\n\")\n\nprint('c' in X)  # True\nprint(\"=========================================\\n\")\n\nprint('a' in Y)  # False\nprint(\"=========================================\\n\")\n\nprint(X - Y)     # {'a', 'c'}\nprint(\"=========================================\\n\")\n\nprint(Y - X)     # {'s'}\nprint(\"=========================================\\n\")\n\nprint(X | Y)     # {'a', 'c', 'b', 'd', 's'}\nprint(\"=========================================\\n\")\n\nprint(X & Y)     # {'b', 'd'}\n",
      "metadata": {
        "id": "Ngllc1pd-rBh",
        "outputId": "c024b049-2f3b-4973-d4f1-d4a320148178"
      },
      "outputs": [
        {
          "name": "stdout",
          "output_type": "stream",
          "text": "X = {'a', 'b', 'c', 'd'}\n,=========================================\n,\n,Y = {'s', 'b', 'd'}\n,=========================================\n,\n,True\n,=========================================\n,\n,False\n,=========================================\n,\n,{'a', 'c'}\n,=========================================\n,\n,{'s'}\n,=========================================\n,\n,{'b', 'c', 's', 'd', 'a'}\n,=========================================\n,\n,{'b', 'd'}\n"
        }
      ],
      "execution_count": null
    },
    {
      "cell_type": "markdown",
      "source": "## 1. Dictionaries\n\n### 1.0. About dictionaries\n\nIn Pythonic design, a dictionary (also called a map) is a versatile collection of objects that adheres to the `key-value` principle. Unlike lists, where elements are accessed by their position or index, dictionaries use unique keys to identify and retrieve values. These keys are typically strings but can also be other immutable types, such as numbers or tuples. This key-value structure allows for efficient lookups, additions, and deletions, making dictionaries a powerful tool for organizing and managing data in a more intuitive and flexible way compared to lists.",
      "metadata": {
        "id": "_1hiHy5i-rBi"
      }
    },
    {
      "cell_type": "code",
      "source": "x = {'name': 'Jean', 'age': 25, 'weight': 70, 'height': 1.75}\ny = {'Jean': [25, 70, 1.75], 'Paul': [30, 65, 1.80], 'Pierre': [35, 75, 1.65]}\nz = {'Jean': (25, 70, 1.75), 'Paul': (30, 65, 1.80), 'Pierre': (35, 75, 1.65)}\nk = {'name': 'Jean', 'biometrics': [25, 70, 1.75], 'score': (12, 17, 15), 'rank': 25}",
      "metadata": {
        "id": "D-vXLtua-rBi"
      },
      "outputs": [],
      "execution_count": null
    },
    {
      "cell_type": "markdown",
      "source": "The four variables above represent **four** typical ways to define a dictionary. Variable `x` is a dictionary where the keys are **name, age, weight, and height**. The corresponding values are **Jean, 25, 70**, and **1.75**. In the definition of `x`, it is noted that each key corresponds to a unique value. However, it is very common to associate multiple values with a single key. This is the case with dictionary `y`.",
      "metadata": {
        "id": "5irVrjfN-rBw"
      }
    },
    {
      "cell_type": "markdown",
      "source": "###  1.1. Operations on dictionaries\n\n - To access the elements of a dictionary, you use the keys. The method `keys()` returns the list of keys in the dictionary, and the method `values()` returns the values.\n  ```python\n     X = {'name': 'Jean', 'age': 25, 'weight': 70, 'height': 1.75}\n     print(X.keys())  # returns ['name', 'age', 'weight', 'height']\n     print(X.values()) # returns ['Jean', 25, 70, 1.75]   \n     print(X['name'])  # returns 'Jean'   \n     x = {'Jean': [25, 70, 1.75], 'Paul': [30, 65, 1.80], 'Pierre': [35, 75, 1.65]}\n     print(x['Jean']) # returns [25, 70, 1.75]\n     print(x['Jean'][0]) # returns 25\n     print(x['Jean'][0:2]) # returns [25, 70]   \n  ```",
      "metadata": {
        "id": "pfVysB7K-rBx"
      }
    },
    {
      "cell_type": "code",
      "source": "X = {'name': 'Jean', 'age': 25, 'weight': 70, 'height': 1.75}\nprint(\"=========================================\\n\")\n\nprint(X.keys())  # returns ['name', 'age', 'weight', 'height']\nprint(\"=========================================\\n\")\n\nprint(X.values()) # returns ['Jean', 25, 70, 1.75]\nprint(\"=========================================\\n\")\n\nprint(X['name'])  # returns 'Jean'\nprint(\"=========================================\\n\")\n\nx = {'Jean': [25, 70, 1.75], 'Paul': [30, 65, 1.80], 'Pierre': [35, 75, 1.65]}\nprint(\"=========================================\\n\")\n\nprint(x['Jean']) # returns [25, 70, 1.75]\nprint(\"=========================================\\n\")\n\nprint(x['Jean'][0]) # returns 25\nprint(\"=========================================\\n\")\n\nprint(x['Jean'][0:2]) # returns [25, 70]",
      "metadata": {
        "id": "HG46Y1gF-rBy",
        "outputId": "2c33797b-a881-4015-94ea-c88b2b894d4d",
        "trusted": true
      },
      "outputs": [
        {
          "name": "stdout",
          "output_type": "stream",
          "text": "=========================================\n\ndict_keys(['name', 'age', 'weight', 'height'])\n=========================================\n\ndict_values(['Jean', 25, 70, 1.75])\n=========================================\n\nJean\n=========================================\n\n=========================================\n\n[25, 70, 1.75]\n=========================================\n\n25\n=========================================\n\n[25, 70]\n"
        }
      ],
      "execution_count": 7
    },
    {
      "cell_type": "markdown",
      "source": "- Adding or modifying keys or values: You can modify a dictionary by either changing existing keys and values or by adding new ones. You can also remove values as well as keys.\n\n```python\n  x = {} # Creates an empty dictionary. You could also use x = dict()\n  x['name'] = 'Jean' # Adds the key-value pair 'name' and 'Jean' to the initial dictionary x\n  x['biometrics'] = [25, 70, 1.75] # Adds the key-value pair 'biometrics' and [25, 70, 1.75] to dictionary x\n  x['biometrics'] = [30, 70, 1.80] # Modifies the values of the 'biometrics' key by redefining it\n  x['biometrics'][0] = 2 # Modifies the element at index 0 in the list of values corresponding to the 'biometrics' key (previously defined)\n\n  Y = {'Jean': [25, 70, 1.75], 'Paul': [30, 65, 1.80], 'Pierre': [35, 75, 1.65]}\n  del Y['Jean'] # Deletes the key 'Jean' and all its corresponding values\n  del Y['Paul'][0] # Deletes the element at index 0 in the value sequence corresponding to the key 'Paul'. For a key with a single value, use del x['keyName'] where 'keyName' is the name of the key with the single value.\n\n```",
      "metadata": {
        "id": "fPG2ghmo-rBz"
      }
    },
    {
      "cell_type": "code",
      "source": "x = {} # Creates an empty dictionary. You could also use x = dict()\nprint(x)\nprint(\"=========================================\\n\")\n\nx['name'] = 'Jean' # Adds the key-value pair 'name' and 'Jean' to the initial dictionary x\nprint(x)\nprint(\"=========================================\\n\")\n\nx['biometrics'] = [25, 70, 1.75] # Adds the key-value pair 'biometrics' and [25, 70, 1.75] to dictionary x\nprint(x)\nprint(\"=========================================\\n\")\n\nx['biometrics'] = [30, 70, 1.80] # Modifies the values of the 'biometrics' key by redefining it\nprint(x)\nprint(\"=========================================\\n\")\n\nx['biometrics'][0] = 2 # Modifies the element at index 0 in the list of values corresponding to the 'biometrics' key (previously defined)\nprint(x)\nprint(\"=========================================\\n\")\n\n\n\nY = {'Jean': [25, 70, 1.75], 'Paul': [30, 65, 1.80], 'Pierre': [35, 75, 1.65]}\nprint(Y)\nprint(\"=========================================\\n\")\n\ndel Y['Jean'] # Deletes the key 'Jean' and all its corresponding values\n\ndel Y['Paul'][0] # Deletes the element at index 0 in the value sequence corresponding to the key 'Paul'. For a key with a single value, use del x['keyName'] where 'keyName' is the name of the key with the single value.\n\n\nprint(Y)",
      "metadata": {
        "id": "Q0e6e5et-rB0",
        "outputId": "53070ed4-ca73-4d89-c7ff-6ba96e025fe8",
        "trusted": true
      },
      "outputs": [
        {
          "name": "stdout",
          "output_type": "stream",
          "text": "{}\n=========================================\n\n{'name': 'Jean'}\n=========================================\n\n{'name': 'Jean', 'biometrics': [25, 70, 1.75]}\n=========================================\n\n{'name': 'Jean', 'biometrics': [30, 70, 1.8]}\n=========================================\n\n{'name': 'Jean', 'biometrics': [2, 70, 1.8]}\n=========================================\n\n{'Jean': [25, 70, 1.75], 'Paul': [30, 65, 1.8], 'Pierre': [35, 75, 1.65]}\n=========================================\n\n{'Paul': [65, 1.8], 'Pierre': [35, 75, 1.65]}\n"
        }
      ],
      "execution_count": 8
    },
    {
      "cell_type": "markdown",
      "source": "- To rename a key in a dictionary, you use the `pop()` function as defined in the following example:\n\n```python\nx = {'Jean': [25, 70, 1.75], 'Paul': [30, 65, 1.80], 'Pierre': [35, 75, 1.65]}\nx['John'] = x.pop('Jean') # Renames the key 'Jean' to 'John'\nprint(x)\n\n```",
      "metadata": {
        "id": "5qP2vlFU-rB1"
      }
    },
    {
      "cell_type": "code",
      "source": "x = {'Jean': [25, 70, 1.75], 'Paul': [30, 65, 1.80], 'Pierre': [35, 75, 1.65]}\nprint(x)\n\nx['John'] = x.pop('Jean') # Renames the key 'Jean' to 'John'\nprint(x)",
      "metadata": {
        "id": "rCShdF_6-rB2",
        "outputId": "c9b79372-5908-4ac3-a4f7-2b93ff82876d"
      },
      "outputs": [
        {
          "name": "stdout",
          "output_type": "stream",
          "text": "{'Jean': [25, 70, 1.75], 'Paul': [30, 65, 1.8], 'Pierre': [35, 75, 1.65]}\n,{'Paul': [30, 65, 1.8], 'Pierre': [35, 75, 1.65], 'John': [25, 70, 1.75]}\n"
        }
      ],
      "execution_count": null
    },
    {
      "cell_type": "markdown",
      "source": "## Further reading\n\n0. [Programming with Python](python.aims.ac.za); [Section 20](https://python.aims.ac.za/pages/list_and_list_comprehension.html)\n1. [Programming with Python](python.aims.ac.za); [Section 21](https://python.aims.ac.za/pages/cp_mutable_objs.html)",
      "metadata": {
        "id": "RgdWcG2h-rB2"
      }
    }
  ]
}